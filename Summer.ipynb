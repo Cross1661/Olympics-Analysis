{
 "cells": [
  {
   "cell_type": "markdown",
   "metadata": {},
   "source": [
    "# Summer Olympics Data Analysis Assignment"
   ]
  },
  {
   "cell_type": "markdown",
   "metadata": {},
   "source": [
    "### 1. In how many cities Summer Olympics is held so far?"
   ]
  },
  {
   "cell_type": "code",
   "execution_count": 23,
   "metadata": {},
   "outputs": [
    {
     "name": "stdout",
     "output_type": "stream",
     "text": [
      "   Year    City     Sport Discipline             Athlete Country Gender  \\\n",
      "0  1896  Athens  Aquatics   Swimming       HAJOS, Alfred     HUN    Men   \n",
      "1  1896  Athens  Aquatics   Swimming    HERSCHMANN, Otto     AUT    Men   \n",
      "2  1896  Athens  Aquatics   Swimming   DRIVAS, Dimitrios     GRE    Men   \n",
      "3  1896  Athens  Aquatics   Swimming  MALOKINIS, Ioannis     GRE    Men   \n",
      "4  1896  Athens  Aquatics   Swimming  CHASAPIS, Spiridon     GRE    Men   \n",
      "\n",
      "                        Event   Medal  \n",
      "0              100M Freestyle    Gold  \n",
      "1              100M Freestyle  Silver  \n",
      "2  100M Freestyle For Sailors  Bronze  \n",
      "3  100M Freestyle For Sailors    Gold  \n",
      "4  100M Freestyle For Sailors  Silver  \n"
     ]
    }
   ],
   "source": [
    "import pandas as pd\n",
    "import numpy\n",
    "df=pd.read_csv(\"summer.csv\")\n",
    "print(df.head())\n",
    "\n"
   ]
  },
  {
   "cell_type": "code",
   "execution_count": 2,
   "metadata": {},
   "outputs": [
    {
     "name": "stdout",
     "output_type": "stream",
     "text": [
      "                     City\n",
      "0                  Athens\n",
      "1                   Paris\n",
      "2                St Louis\n",
      "3                  London\n",
      "4               Stockholm\n",
      "5                 Antwerp\n",
      "6               Amsterdam\n",
      "7             Los Angeles\n",
      "8                  Berlin\n",
      "9                Helsinki\n",
      "10  Melbourne / Stockholm\n",
      "11                   Rome\n",
      "12                  Tokyo\n",
      "13                 Mexico\n",
      "14                 Munich\n",
      "15               Montreal\n",
      "16                 Moscow\n",
      "17                  Seoul\n",
      "18              Barcelona\n",
      "19                Atlanta\n",
      "20                 Sydney\n",
      "21                Beijing\n",
      "Total no. of cities held Olympics : 22\n"
     ]
    }
   ],
   "source": [
    "data=df['City'].unique()\n",
    "#print(data,\"\\n\")\n",
    "DIF_city=pd.DataFrame(data,columns=[\"City\"])\n",
    "print(DIF_city)\n",
    "print(\"Total no. of cities held Olympics :\",len(data))"
   ]
  },
  {
   "cell_type": "markdown",
   "metadata": {},
   "source": [
    "### 2. Which sport is having most number of Gold Medals so far? (Top 5)"
   ]
  },
  {
   "cell_type": "code",
   "execution_count": 76,
   "metadata": {},
   "outputs": [
    {
     "name": "stdout",
     "output_type": "stream",
     "text": [
      "[['Aquatics' 'Gold']\n",
      " ['Aquatics' 'Silver']\n",
      " ['Aquatics' 'Bronze']\n",
      " ...\n",
      " ['Wrestling' 'Silver']\n",
      " ['Wrestling' 'Bronze']\n",
      " ['Wrestling' 'Bronze']]\n"
     ]
    }
   ],
   "source": [
    "gg=pd.DataFrame(df,columns=['Sport','Medal'])\n",
    "gg=gg.values\n",
    "#print(gg)\n",
    "gold=[]"
   ]
  },
  {
   "cell_type": "code",
   "execution_count": 87,
   "metadata": {},
   "outputs": [],
   "source": [
    "for sport in df['Sport'].unique():\n",
    "    xd=0\n",
    "    for i in range(len(gg)):\n",
    "        if(gg[i][0]==sport):\n",
    "            if(gg[i][1]=='Gold'):\n",
    "                xd+=1\n",
    "    gold.append([sport,xd])"
   ]
  },
  {
   "cell_type": "code",
   "execution_count": 94,
   "metadata": {},
   "outputs": [
    {
     "data": {
      "text/plain": [
       "<AxesSubplot:xlabel='Sport'>"
      ]
     },
     "execution_count": 94,
     "metadata": {},
     "output_type": "execute_result"
    },
    {
     "data": {
      "image/png": "[encoded data removed]",
      "text/plain": [
       "<Figure size 432x288 with 1 Axes>"
      ]
     },
     "metadata": {
      "needs_background": "light"
     },
     "output_type": "display_data"
    }
   ],
   "source": [
    "pd.DataFrame(gold,columns=['Sport','Golds']).sort_values(by='Golds',ascending=False).head().plot(x='Sport', y='Golds', kind= 'bar')\n",
    "\n"
   ]
  },
  {
   "cell_type": "markdown",
   "metadata": {},
   "source": [
    "### 3. Which sport is having most number of medals so far? (Top 5)"
   ]
  },
  {
   "cell_type": "code",
   "execution_count": 96,
   "metadata": {},
   "outputs": [
    {
     "data": {
      "text/plain": [
       "<AxesSubplot:xlabel='Sport'>"
      ]
     },
     "execution_count": 96,
     "metadata": {},
     "output_type": "execute_result"
    },
    {
     "data": {
      "image/png": "[encoded data removed]",
      "text/plain": [
       "<Figure size 432x288 with 1 Axes>"
      ]
     },
     "metadata": {
      "needs_background": "light"
     },
     "output_type": "display_data"
    }
   ],
   "source": [
    "medal=[]\n",
    "for sport in df['Sport'].unique():\n",
    "    xd=0\n",
    "    for i in range(len(gg)):\n",
    "        if(gg[i][0]==sport):\n",
    "                xd+=1\n",
    "    medal.append([sport,xd])\n",
    "pd.DataFrame(medal,columns=['Sport','medals']).sort_values(by='medals',ascending=False).head().plot(x='Sport', y='medals', kind= 'bar')\n"
   ]
  },
  {
   "cell_type": "markdown",
   "metadata": {},
   "source": [
    "### 4. Which player has won most number of medals? (Top 5)"
   ]
  },
  {
   "cell_type": "code",
   "execution_count": 4,
   "metadata": {},
   "outputs": [],
   "source": [
    "ggg=pd.DataFrame(df,columns=['Athlete','Medal'])\n",
    "ggg=ggg.values\n",
    "\n"
   ]
  },
  {
   "cell_type": "code",
   "execution_count": 5,
   "metadata": {},
   "outputs": [
    {
     "data": {
      "text/plain": [
       "<AxesSubplot:xlabel='Player'>"
      ]
     },
     "execution_count": 5,
     "metadata": {},
     "output_type": "execute_result"
    },
    {
     "data": {
      "image/png": "[encoded data removed]",
      "text/plain": [
       "<Figure size 432x288 with 1 Axes>"
      ]
     },
     "metadata": {
      "needs_background": "light"
     },
     "output_type": "display_data"
    }
   ],
   "source": [
    "player=[]\n",
    "for p in df['Athlete'].unique():\n",
    "    xd=0\n",
    "    for i in range(len(ggg)):\n",
    "        if(ggg[i][0]==p):\n",
    "            xd+=1\n",
    "    #print(p,xd)\n",
    "    player.append([p,xd])\n",
    "pd.DataFrame(player,columns=['Player','medals']).sort_values(by='medals',ascending=False).head().plot(x='Player', y='medals', kind= 'bar')"
   ]
  },
  {
   "cell_type": "markdown",
   "metadata": {},
   "source": [
    "### 5. Which player has won most number Gold Medals of medals? (Top 5)"
   ]
  },
  {
   "cell_type": "code",
   "execution_count": 110,
   "metadata": {},
   "outputs": [
    {
     "data": {
      "text/plain": [
       "<AxesSubplot:xlabel='Athlete'>"
      ]
     },
     "execution_count": 110,
     "metadata": {},
     "output_type": "execute_result"
    },
    {
     "data": {
      "image/png": "[encoded data removed]",
      "text/plain": [
       "<Figure size 432x288 with 1 Axes>"
      ]
     },
     "metadata": {
      "needs_background": "light"
     },
     "output_type": "display_data"
    }
   ],
   "source": [
    "player_gold=[]\n",
    "for p in df['Athlete'].unique():\n",
    "    xd=0\n",
    "    for i in range(len(ggg)):\n",
    "        if(ggg[i][0]==p):\n",
    "            if(ggg[i][1]=='Gold'):\n",
    "                xd+=1\n",
    "    player_gold.append([p,xd])\n",
    "pd.DataFrame(player_gold,columns=['Athlete','Golds']).sort_values(by='Golds',ascending=False).head().plot(x='Athlete', y='Golds', kind= 'bar')"
   ]
  },
  {
   "cell_type": "markdown",
   "metadata": {},
   "source": [
    "### 6. In which year India won first Gold Medal in Summer Olympics?"
   ]
  },
  {
   "cell_type": "code",
   "execution_count": 122,
   "metadata": {},
   "outputs": [
    {
     "name": "stdout",
     "output_type": "stream",
     "text": [
      "{1896}\n"
     ]
    }
   ],
   "source": [
    "indi=df.values\n",
    "#ind=indi.unique()\n",
    "ind=[]\n",
    "for i in range(len(df)):\n",
    "    if(indi[i][5]=='IND'):\n",
    "        if(indi[i][8]=='Gold'):\n",
    "            ind.append(indi[0][0])\n",
    "ooo=min(ind)\n",
    "iin=set(ind)\n",
    "print(iin)\n",
    "            #print(ind.distinct().min())            "
   ]
  },
  {
   "cell_type": "markdown",
   "metadata": {},
   "source": [
    "### 7. Which event is most popular in terms on number of players? (Top 5)"
   ]
  },
  {
   "cell_type": "code",
   "execution_count": 24,
   "metadata": {},
   "outputs": [
    {
     "data": {
      "text/plain": [
       "<AxesSubplot:xlabel='Event'>"
      ]
     },
     "execution_count": 24,
     "metadata": {},
     "output_type": "execute_result"
    },
    {
     "data": {
      "image/png": "[encoded data removed]",
      "text/plain": [
       "<Figure size 432x288 with 1 Axes>"
      ]
     },
     "metadata": {
      "needs_background": "light"
     },
     "output_type": "display_data"
    }
   ],
   "source": [
    "events=df.values\n",
    "event=[]\n",
    "for i in df['Event'].unique():\n",
    "    xd=0\n",
    "    for j in range(len(events)):\n",
    "        if(events[j][7]==i):\n",
    "            xd+=1\n",
    "    event.append([i,xd])\n",
    "pd.DataFrame(event,columns=['Event','No. of Players']).sort_values(by='No. of Players',ascending=False).head().plot(x='Event', y='No. of Players', kind= 'bar')"
   ]
  },
  {
   "cell_type": "markdown",
   "metadata": {},
   "source": [
    "### 8. Which sport is having most female Gold Medalists? (Top 5)"
   ]
  },
  {
   "cell_type": "code",
   "execution_count": 22,
   "metadata": {},
   "outputs": [
    {
     "data": {
      "text/plain": [
       "<AxesSubplot:xlabel='Sports'>"
      ]
     },
     "execution_count": 22,
     "metadata": {},
     "output_type": "execute_result"
    },
    {
     "data": {
      "image/png": "[encoded data removed]",
      "text/plain": [
       "<Figure size 432x288 with 1 Axes>"
      ]
     },
     "metadata": {
      "needs_background": "light"
     },
     "output_type": "display_data"
    }
   ],
   "source": [
    "fgm= df.values\n",
    "fg=[]\n",
    "sp=df['Sport'].unique()\n",
    "for i in sp:\n",
    "    xd=0\n",
    "    for j in range(len(df)):\n",
    "        if(fgm[j][2]==i):\n",
    "            if(fgm[j][6]=='Women'):\n",
    "                if(fgm[j][8]=='Gold'):\n",
    "                    xd+=1\n",
    "    fg.append([i,xd])\n",
    "#print(fg)\n",
    "pd.DataFrame(fg,columns=['Sports','FGM']).sort_values(by='FGM',ascending=False).head().plot(x='Sports', y='FGM', kind= 'bar')"
   ]
  },
  {
   "cell_type": "code",
   "execution_count": 14,
   "metadata": {},
   "outputs": [
    {
     "data": {
      "text/plain": [
       "array(['Men', 'Women'], dtype=object)"
      ]
     },
     "execution_count": 14,
     "metadata": {},
     "output_type": "execute_result"
    }
   ],
   "source": []
  },
  {
   "cell_type": "code",
   "execution_count": null,
   "metadata": {},
   "outputs": [],
   "source": []
  }
 ],
 "metadata": {
  "kernelspec": {
   "display_name": "Python 3",
   "language": "python",
   "name": "python3"
  },
  "language_info": {
   "codemirror_mode": {
    "name": "ipython",
    "version": 3
   },
   "file_extension": ".py",
   "mimetype": "text/x-python",
   "name": "python",
   "nbconvert_exporter": "python",
   "pygments_lexer": "ipython3",
   "version": "3.8.8"
  }
 },
 "nbformat": 4,
 "nbformat_minor": 2
}
